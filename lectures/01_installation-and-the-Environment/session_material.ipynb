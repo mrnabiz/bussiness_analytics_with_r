{
 "cells": [
  {
   "cell_type": "markdown",
   "id": "2672b369-8b45-4299-a277-1a6f88ba7e39",
   "metadata": {
    "slideshow": {
     "slide_type": "slide"
    }
   },
   "source": [
    "# R in Business Analytics\n",
    "### By: Mohammad Reza Nabizadeh \n",
    "**www.nabi.me**\n",
    "\n",
    "\n",
    "<p><img style=\"float: left;\" src=\"https://upload.wikimedia.org/wikipedia/commons/thumb/1/1b/R_logo.svg/1200px-R_logo.svg.png\" width=\"200\" /></p>\n",
    "\n",
    "\n"
   ]
  },
  {
   "cell_type": "markdown",
   "id": "5e1dc24b",
   "metadata": {
    "slideshow": {
     "slide_type": "slide"
    }
   },
   "source": [
    "## 🍼 Lecture 1: Introduction to R\n",
    "#### How to install and run R on your machine"
   ]
  },
  {
   "cell_type": "markdown",
   "id": "c849c550-5e93-4a44-a2b3-03908560f7fe",
   "metadata": {
    "slideshow": {
     "slide_type": "slide"
    }
   },
   "source": [
    "### What is R?\n",
    "The most suitable source to define the language would be the R Foundation's website. As per R-Project.org, R is \"a programming language and environment dedicated to statistical computing and graphics.\" This open-source language is frequently utilized for data analysis and as a statistical software tool.\n",
    "\n",
    "The R environment encompasses a comprehensive suite of software tools designed for data manipulation, computation, and visual representation. The environment offers:\n",
    "- A high-performance facility for data storage and management\n",
    "- A collection of operators focused on array calculations, primarily matrices\n",
    "- A vast, coherent, integrated set of intermediate tools for data analysis\n",
    "- Graphics capabilities for data analysis and display, suitable for both on-screen and printed output\n",
    "- A well-structured, straightforward, and efficient programming language, which includes user-defined recursive functions, loops, conditionals, and input-output facilities."
   ]
  },
  {
   "cell_type": "markdown",
   "id": "5de9ebb3",
   "metadata": {
    "slideshow": {
     "slide_type": "slide"
    }
   },
   "source": [
    "### Why R?\n",
    "<img src=\"https://www.researchgate.net/publication/333159083/figure/fig1/AS:759374838517760@1558060478678/Number-of-R-packages-contributed-to-the-Comprehensive-R-Archive-Network-CRAN-as-a.png\" width=\"600\">\n",
    "\n",
    "*Source: [ResearchGate](https://www.researchgate.net/figure/Number-of-R-packages-contributed-to-the-Comprehensive-R-Archive-Network-CRAN-as-a_fig1_333159083)*"
   ]
  },
  {
   "cell_type": "markdown",
   "id": "541bc762",
   "metadata": {
    "slideshow": {
     "slide_type": "slide"
    }
   },
   "source": [
    "### How to Install R?\n",
    "[UBC MDS Software Installation Guide](https://ubc-mds.github.io/resources_pages/installation_instructions/)"
   ]
  },
  {
   "cell_type": "markdown",
   "id": "2ab69492",
   "metadata": {
    "slideshow": {
     "slide_type": "slide"
    }
   },
   "source": [
    "### R Studio\n",
    "RStudio is an integrated development environment for R, a programming language for statistical computing and graphics. It is available in two formats: RStudio Desktop is a regular desktop application while RStudio Server runs on a remote server and allows accessing RStudio using a web browser.\n",
    "\n",
    "<img src=\"https://upload.wikimedia.org/wikipedia/commons/thumb/d/d0/RStudio_logo_flat.svg/1920px-RStudio_logo_flat.svg.png\" width=\"300\">\n",
    "\n",
    "*Source: https://en.wikipedia.org/wiki/RStudio*"
   ]
  },
  {
   "cell_type": "markdown",
   "id": "db72e222",
   "metadata": {
    "slideshow": {
     "slide_type": "slide"
    }
   },
   "source": [
    "### 🕵️ RStudio High level review"
   ]
  },
  {
   "cell_type": "markdown",
   "id": "cee62b80",
   "metadata": {
    "slideshow": {
     "slide_type": "slide"
    }
   },
   "source": [
    "### Source of the material\n",
    "<img src=\"https://datasciencebook.ca/img/ds-a-first-intro-graphic.jpg\" width=\"600\">\n",
    "\n",
    "*Source: https://datasciencebook.ca/*"
   ]
  }
 ],
 "metadata": {
  "celltoolbar": "Slideshow",
  "kernelspec": {
   "display_name": "R",
   "language": "R",
   "name": "ir"
  },
  "language_info": {
   "codemirror_mode": "r",
   "file_extension": ".r",
   "mimetype": "text/x-r-source",
   "name": "R",
   "pygments_lexer": "r",
   "version": "4.2.3"
  }
 },
 "nbformat": 4,
 "nbformat_minor": 5
}
